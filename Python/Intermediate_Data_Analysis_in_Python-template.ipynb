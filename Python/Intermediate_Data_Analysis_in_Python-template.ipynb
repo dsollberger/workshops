{
 "cells": [
  {
   "cell_type": "markdown",
   "id": "8ac3780a-b492-4828-99b6-2d7c8f8dd325",
   "metadata": {},
   "source": [
    "# Intermediate Data Analysis in Python\n",
    "\n",
    "\"This survey is the result of a partnership between Axios and Harris Poll to gauge the reputation of the most visible brands in America, based on 20 years of Harris Poll research. From Trader Joe's to Disney, here's how this year's class stacks up.\n",
    "\n",
    "\"Methodology: The Axios Harris Poll 100 is based on a survey of 33,096 Americans in a nationally representative sample conducted March 11-April 3, 2022. The two-step process starts fresh each year by surveying the public’s top-of-mind awareness of companies that either excel or falter in society.\n",
    "\n",
    "\"These 100 'most visible companies' are then ranked by a second group of Americans across the seven key dimensions of reputation to arrive at the ranking. If a company is not on the list, it did not reach a critical level of visibility to be measured.\"\n",
    "\n",
    "The data set is currently hosted in the TidyTuesday repository: https://github.com/rfordatascience/tidytuesday/tree/master/data/2022/2022-05-31"
   ]
  },
  {
   "cell_type": "code",
   "execution_count": 30,
   "id": "b8342633-6c0e-455e-9001-1bb59e80ece9",
   "metadata": {},
   "outputs": [],
   "source": [
    "import matplotlib.pyplot as plt # to add labels and other customization to plots\n",
    "import numpy as np              # advanced calculations (i.e. beyond arithmetic)\n",
    "import pandas as pd             # treat incoming data as data frames\n",
    "import seaborn as sns           # modern graphing software\n",
    "from scipy import stats         # advanced calculations (college level)"
   ]
  },
  {
   "cell_type": "markdown",
   "id": "47713fc7-0d77-46c2-887b-c751a0a5b8e4",
   "metadata": {},
   "source": [
    "Since we have CSV files (comma-separated values), we can use the `read_csv` function in the `pandas` package to load the file into our current programming session."
   ]
  },
  {
   "cell_type": "code",
   "execution_count": 31,
   "id": "8bbe62a3-b1c7-4e92-af0a-25ab527d1760",
   "metadata": {},
   "outputs": [],
   "source": [
    "reputation = pd.read_csv(\"reputation.csv\")\n",
    "reputation_wide = pd.read_csv(\"reputation_wide.csv\")"
   ]
  },
  {
   "cell_type": "markdown",
   "id": "91027e1a-45e3-42cf-921a-1ae9ebc2b7c4",
   "metadata": {},
   "source": [
    "# Reshaping Data Frames\n",
    "\n",
    "You have noticed that for these examples, I have employed two slightly different data frames.  Each had situations where it was then easier to employ Python code.  Those data frames were made with the `melt()` and `pivot()` methods."
   ]
  },
  {
   "cell_type": "code",
   "execution_count": 32,
   "id": "9deb3047-1772-4461-9818-fec5a92c9798",
   "metadata": {},
   "outputs": [],
   "source": [
    "#reputatation_long = pd.melt(reputation_wide,\n",
    "#                            id_vars = ['company', 'industry'],\n",
    "#                            var_name = 'name',\n",
    "#                            value_name = 'score')"
   ]
  },
  {
   "cell_type": "code",
   "execution_count": 33,
   "id": "524fe0cf-c8ea-4a34-8c3e-b5726b311b92",
   "metadata": {},
   "outputs": [],
   "source": [
    "#reputation_wide = reputation.pivot(index = ['company', 'industry'], columns = 'name', values = 'score')\n",
    "#reputation_wide.head()"
   ]
  },
  {
   "cell_type": "markdown",
   "id": "6c8b98d7-22b7-4608-81e0-1023a29b4f93",
   "metadata": {},
   "source": [
    "# Confidence Intervals\n",
    "\n",
    "If our data is a *sample*, can we generalize to a larger *population*?  The field of statistics employs **confidence intervals**.\n",
    "\n",
    "For example, what is the true population mean for the ethics score for the food delivery industry?  We can use the a bootstrap distribution to handle the simulation and computation."
   ]
  },
  {
   "cell_type": "code",
   "execution_count": null,
   "id": "b9ab7a59-eb5b-410a-839b-b6730ca1d00d",
   "metadata": {},
   "outputs": [],
   "source": []
  },
  {
   "cell_type": "markdown",
   "id": "0f8aa018-1446-4504-9bc2-1c628e66a345",
   "metadata": {},
   "source": [
    "We are 95 percent confident that the true population mean for the ethics score for the food delivery industry is in between 70.5 and 74.6 (on a scale from 0 to 100)."
   ]
  },
  {
   "cell_type": "markdown",
   "id": "d9d45ddc-3482-44f9-adaf-eb5fe3fb5247",
   "metadata": {},
   "source": [
    "# Hypothesis Testing\n",
    "\n",
    "## Example 1\n",
    "\n",
    "* null hypothesis: the healthcare and media industries have the same reputation score\n",
    "* alternative hypothesis: the healthcare and media industries have different reputation scores\n",
    "\n",
    "$$H_{o}: \\mu_{1} = \\mu_{2}$$\n",
    "$$H_{a}: \\mu_{1} \\neq \\mu_{2}$$"
   ]
  },
  {
   "cell_type": "code",
   "execution_count": 34,
   "id": "4a5a0287-8cd5-4213-aa8f-a3080510c8c3",
   "metadata": {},
   "outputs": [
    {
     "data": {
      "image/png": "[encoded data removed]",
      "text/plain": [
       "<Figure size 432x288 with 1 Axes>"
      ]
     },
     "metadata": {
      "needs_background": "light"
     },
     "output_type": "display_data"
    }
   ],
   "source": [
    "reputation_subset = reputation[reputation.industry.isin(['Healthcare', 'Media'])]\n",
    "\n",
    "my_plot = sns.boxplot(x = reputation_subset.industry, y = reputation_subset.score)\n",
    "my_plot.set(title = \"Company Reputation Survey\\nMarch 11 to April 3, 2022\\nSource: Axios and Harris, TidyTuesday\",\n",
    "            xlabel = \"industry\", ylabel = \"reputation score\")\n",
    "plt.show(my_plot)"
   ]
  },
  {
   "cell_type": "code",
   "execution_count": null,
   "id": "83d0728b-23bb-4cb1-911e-0dcc03aad35d",
   "metadata": {},
   "outputs": [],
   "source": []
  },
  {
   "cell_type": "markdown",
   "id": "7e3d8ed4-fee9-469e-87fb-7c2fad73537f",
   "metadata": {},
   "source": [
    "Since the p-value < 0.05, we reject the claim of equal means between the healthcare and media industries."
   ]
  },
  {
   "cell_type": "markdown",
   "id": "c72924db-5bd6-49e2-b9fc-50cb98adf5ef",
   "metadata": {},
   "source": [
    "## Example 2\n",
    "\n",
    "* null hypothesis: the pharmacy and retail industries have the same reputation score\n",
    "* alternative hypothesis: the pharmacy and retail industries have different reputation scores\n",
    "\n",
    "$$H_{o}: \\mu_{1} = \\mu_{2}$$\n",
    "$$H_{a}: \\mu_{1} \\neq \\mu_{2}$$"
   ]
  },
  {
   "cell_type": "code",
   "execution_count": null,
   "id": "6f84a928-7f26-48ec-89ab-7564e48eeed6",
   "metadata": {},
   "outputs": [],
   "source": []
  },
  {
   "cell_type": "code",
   "execution_count": null,
   "id": "8825d87d-208d-4c66-ae9a-1252e5af8f3c",
   "metadata": {},
   "outputs": [],
   "source": []
  },
  {
   "cell_type": "markdown",
   "id": "348ccd44-5da3-48b8-8984-0eb4be1c3eb5",
   "metadata": {},
   "source": [
    "Since the p-value > 0.05, we fail to reject the claim of equal means between the pharmacy and retail industries."
   ]
  },
  {
   "cell_type": "markdown",
   "id": "92056072-3576-4993-a966-b6fe59ead1bf",
   "metadata": {},
   "source": [
    "# Correlation Matrix\n",
    "\n",
    "To visualize many correlation values between pairs of numerical variables, we can build a correlation matrix."
   ]
  },
  {
   "cell_type": "code",
   "execution_count": null,
   "id": "a58f860d-f664-4386-bdba-19cc0c8eab0d",
   "metadata": {},
   "outputs": [],
   "source": []
  },
  {
   "cell_type": "markdown",
   "id": "63e9f122-24e6-4970-8e13-8b4fba916f3d",
   "metadata": {},
   "source": [
    "# Ranking\n",
    "\n",
    "In this longer example, I am going to show you an example of improving a graph iteratively for clarity.\n",
    "\n",
    "* Query: What are the top 10 companies for workplace culture?\n",
    "\n",
    "Let us start with the framework for a bar chart."
   ]
  },
  {
   "cell_type": "code",
   "execution_count": null,
   "id": "47c45fe9-3300-4161-b245-db363688f986",
   "metadata": {},
   "outputs": [],
   "source": []
  },
  {
   "cell_type": "markdown",
   "id": "2cc990e3-731a-4c08-9bc0-579a7ba85a4c",
   "metadata": {
    "tags": []
   },
   "source": [
    "Let us reorder the bars from highest to lowest values."
   ]
  },
  {
   "cell_type": "code",
   "execution_count": null,
   "id": "dc4fb377-e114-411c-8f29-b4672e8ccdfd",
   "metadata": {},
   "outputs": [],
   "source": []
  },
  {
   "cell_type": "markdown",
   "id": "d6bd5dac-9bea-4697-9bb9-1714dbc23fa2",
   "metadata": {},
   "source": [
    "The graph is still crowded, so let us focus on the top 10 companies."
   ]
  },
  {
   "cell_type": "code",
   "execution_count": null,
   "id": "2a60a6a4-8dc2-4320-9030-81a0e69893cc",
   "metadata": {},
   "outputs": [],
   "source": []
  },
  {
   "cell_type": "markdown",
   "id": "8832f212-7c63-4e9a-9747-211c74c2a657",
   "metadata": {},
   "source": [
    "The labels for the company names are overlapping and still hard to read.  One way to ease the congestion is to switch what are on the x- and y-axes."
   ]
  },
  {
   "cell_type": "code",
   "execution_count": null,
   "id": "6662500a-100c-4828-b413-dc1bf328c159",
   "metadata": {},
   "outputs": [],
   "source": []
  },
  {
   "cell_type": "markdown",
   "id": "c35b2029-8c45-4ff8-b191-aae18e2d2187",
   "metadata": {},
   "source": [
    "Finally, let us place titles on the graph"
   ]
  },
  {
   "cell_type": "code",
   "execution_count": null,
   "id": "fed4d6c0-186f-4599-8ac0-d880076eb2e6",
   "metadata": {},
   "outputs": [],
   "source": []
  }
 ],
 "metadata": {
  "kernelspec": {
   "display_name": "Python 3 (ipykernel)",
   "language": "python",
   "name": "python3"
  },
  "language_info": {
   "codemirror_mode": {
    "name": "ipython",
    "version": 3
   },
   "file_extension": ".py",
   "mimetype": "text/x-python",
   "name": "python",
   "nbconvert_exporter": "python",
   "pygments_lexer": "ipython3",
   "version": "3.9.7"
  }
 },
 "nbformat": 4,
 "nbformat_minor": 5
}
