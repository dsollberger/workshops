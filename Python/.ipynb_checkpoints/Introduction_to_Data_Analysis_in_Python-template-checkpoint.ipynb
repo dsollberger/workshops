{
 "cells": [
  {
   "cell_type": "markdown",
   "id": "8ac3780a-b492-4828-99b6-2d7c8f8dd325",
   "metadata": {},
   "source": [
    "# Introduction to Data Analysis in Python\n",
    "\n",
    "\"This survey is the result of a partnership between Axios and Harris Poll to gauge the reputation of the most visible brands in America, based on 20 years of Harris Poll research. From Trader Joe's to Disney, here's how this year's class stacks up.\n",
    "\n",
    "\"Methodology: The Axios Harris Poll 100 is based on a survey of 33,096 Americans in a nationally representative sample conducted March 11-April 3, 2022. The two-step process starts fresh each year by surveying the public’s top-of-mind awareness of companies that either excel or falter in society.\n",
    "\n",
    "\"These 100 “most visible companies” are then ranked by a second group of Americans across the seven key dimensions of reputation to arrive at the ranking. If a company is not on the list, it did not reach a critical level of visibility to be measured.\"\n",
    "\n",
    "The data set is currently hosted in the TidyTuesday repository: https://github.com/rfordatascience/tidytuesday/tree/master/data/2022/2022-05-31"
   ]
  },
  {
   "cell_type": "code",
   "execution_count": 1,
   "id": "b8342633-6c0e-455e-9001-1bb59e80ece9",
   "metadata": {},
   "outputs": [],
   "source": [
    "import matplotlib.pyplot as plt # to add labels and other customization to plots\n",
    "import pandas as pd             # treat incoming data as data frames\n",
    "import seaborn as sns           # modern graphing software"
   ]
  },
  {
   "cell_type": "markdown",
   "id": "47713fc7-0d77-46c2-887b-c751a0a5b8e4",
   "metadata": {},
   "source": [
    "Since we have CSV files (comma-separated values), we can use the `read_csv` function in the `readr` package to load the file into our current programming session."
   ]
  },
  {
   "cell_type": "code",
   "execution_count": null,
   "id": "8bbe62a3-b1c7-4e92-af0a-25ab527d1760",
   "metadata": {},
   "outputs": [],
   "source": []
  },
  {
   "cell_type": "markdown",
   "id": "91027e1a-45e3-42cf-921a-1ae9ebc2b7c4",
   "metadata": {},
   "source": [
    "# Exploring the Data\n",
    "\n",
    "One way to take a quick look at the data is with the `head()` method to view the first few rows."
   ]
  },
  {
   "cell_type": "code",
   "execution_count": null,
   "id": "ea662d3a-fa63-4152-8fa1-ec3927e71f7c",
   "metadata": {},
   "outputs": [],
   "source": []
  },
  {
   "cell_type": "markdown",
   "id": "90a6c2db-17e1-47a3-8eaf-6dcc800bfd12",
   "metadata": {},
   "source": []
  },
  {
   "cell_type": "markdown",
   "id": "6c8b98d7-22b7-4608-81e0-1023a29b4f93",
   "metadata": {},
   "source": [
    "For our purposes, we should look at the structure of each data set.  In Pandas, this is processed with the `info()` method.  In particular, this view clarifies which columns are numerical and which are categorical."
   ]
  },
  {
   "cell_type": "code",
   "execution_count": null,
   "id": "b9ab7a59-eb5b-410a-839b-b6730ca1d00d",
   "metadata": {},
   "outputs": [],
   "source": []
  },
  {
   "cell_type": "code",
   "execution_count": null,
   "id": "2814189e-90cb-455d-962b-2794ac134389",
   "metadata": {},
   "outputs": [],
   "source": []
  },
  {
   "cell_type": "markdown",
   "id": "d9d45ddc-3482-44f9-adaf-eb5fe3fb5247",
   "metadata": {},
   "source": [
    "# Sample Statistics\n",
    "\n",
    "To get a sense of the numbers, we can compute sample statistics (such as the mean, median, and standard deviation) for a numerical variable."
   ]
  },
  {
   "cell_type": "code",
   "execution_count": null,
   "id": "83d0728b-23bb-4cb1-911e-0dcc03aad35d",
   "metadata": {},
   "outputs": [],
   "source": []
  },
  {
   "cell_type": "markdown",
   "id": "7e3d8ed4-fee9-469e-87fb-7c2fad73537f",
   "metadata": {},
   "source": [
    "If we want to focus on a column (or multiple columns), we can use the dot notation in the code"
   ]
  },
  {
   "cell_type": "code",
   "execution_count": null,
   "id": "6f84a928-7f26-48ec-89ab-7564e48eeed6",
   "metadata": {},
   "outputs": [],
   "source": []
  },
  {
   "cell_type": "markdown",
   "id": "043f4c28-d525-4fda-80d8-0151be4132cb",
   "metadata": {},
   "source": [
    "The Python programming language becomes really useful when we want to perform our tedious calculations across several categories.  Notice how the inclusion of a method in the dot notation below helps us compute the sample statistics for each survey category."
   ]
  },
  {
   "cell_type": "code",
   "execution_count": null,
   "id": "57fa739f-73a4-4c96-9bc7-db3df7e11753",
   "metadata": {},
   "outputs": [],
   "source": []
  },
  {
   "cell_type": "markdown",
   "id": "348ccd44-5da3-48b8-8984-0eb4be1c3eb5",
   "metadata": {},
   "source": [
    "In today's exploration, I am interested in the possible differences in the survey scores across the industries."
   ]
  },
  {
   "cell_type": "code",
   "execution_count": null,
   "id": "b1d45a65-4b75-442f-bbf9-9baaf9dbfae0",
   "metadata": {},
   "outputs": [],
   "source": []
  },
  {
   "cell_type": "markdown",
   "id": "63e9f122-24e6-4970-8e13-8b4fba916f3d",
   "metadata": {},
   "source": [
    "# Data Visualization"
   ]
  },
  {
   "cell_type": "markdown",
   "id": "d03e7dd3-39bb-4f78-82f9-9d8de083f5c4",
   "metadata": {},
   "source": [
    "## Histrogram\n",
    "\n",
    "A histogram allows us to visualize the distribution of one numerical variable."
   ]
  },
  {
   "cell_type": "code",
   "execution_count": null,
   "id": "47c45fe9-3300-4161-b245-db363688f986",
   "metadata": {},
   "outputs": [],
   "source": []
  },
  {
   "cell_type": "markdown",
   "id": "2cc990e3-731a-4c08-9bc0-579a7ba85a4c",
   "metadata": {},
   "source": [
    "## Scatterplot\n",
    "\n",
    "A scatterplot allows us to visualize a pair of numerical variables."
   ]
  },
  {
   "cell_type": "code",
   "execution_count": null,
   "id": "dc4fb377-e114-411c-8f29-b4672e8ccdfd",
   "metadata": {},
   "outputs": [],
   "source": []
  },
  {
   "cell_type": "markdown",
   "id": "d6bd5dac-9bea-4697-9bb9-1714dbc23fa2",
   "metadata": {},
   "source": [
    "It is a good habit to label your graphs."
   ]
  },
  {
   "cell_type": "code",
   "execution_count": null,
   "id": "2a60a6a4-8dc2-4320-9030-81a0e69893cc",
   "metadata": {},
   "outputs": [],
   "source": []
  },
  {
   "cell_type": "markdown",
   "id": "8832f212-7c63-4e9a-9747-211c74c2a657",
   "metadata": {},
   "source": [
    "For a scatterplot, we can include the correlation calculation."
   ]
  },
  {
   "cell_type": "code",
   "execution_count": 2,
   "id": "6662500a-100c-4828-b413-dc1bf328c159",
   "metadata": {},
   "outputs": [],
   "source": [
    "# computing the Pearson correlation between the trust and culture scores\n"
   ]
  },
  {
   "cell_type": "markdown",
   "id": "c35b2029-8c45-4ff8-b191-aae18e2d2187",
   "metadata": {},
   "source": [
    "## Boxplot\n",
    "\n",
    "A boxplot allows us to visualize numerical distributions across a categorical variable."
   ]
  },
  {
   "cell_type": "code",
   "execution_count": null,
   "id": "fed4d6c0-186f-4599-8ac0-d880076eb2e6",
   "metadata": {},
   "outputs": [],
   "source": []
  },
  {
   "cell_type": "code",
   "execution_count": null,
   "id": "55e855c3-ef46-4a08-9560-30456237b67a",
   "metadata": {},
   "outputs": [],
   "source": []
  },
  {
   "cell_type": "markdown",
   "id": "095f0592-be73-45fa-9c72-ea46ac63fc4a",
   "metadata": {},
   "source": [
    "Let us see what happens if we explore the `industry` categorical variable."
   ]
  },
  {
   "cell_type": "code",
   "execution_count": null,
   "id": "d84f8463-21c9-4bc1-b157-fe97b7b214f4",
   "metadata": {},
   "outputs": [],
   "source": []
  },
  {
   "cell_type": "markdown",
   "id": "a08f8da3-8733-4a71-8417-0e836eee1881",
   "metadata": {},
   "source": [
    "To start to ease the complexity, we can (for example) focus on two of the categories"
   ]
  },
  {
   "cell_type": "code",
   "execution_count": null,
   "id": "946b6b77-4030-4c68-a170-4303963d3ba2",
   "metadata": {},
   "outputs": [],
   "source": []
  },
  {
   "cell_type": "code",
   "execution_count": null,
   "id": "0c34151e-ba55-4c4d-ba40-355cf0519a12",
   "metadata": {},
   "outputs": [],
   "source": []
  }
 ],
 "metadata": {
  "kernelspec": {
   "display_name": "Python 3 (ipykernel)",
   "language": "python",
   "name": "python3"
  },
  "language_info": {
   "codemirror_mode": {
    "name": "ipython",
    "version": 3
   },
   "file_extension": ".py",
   "mimetype": "text/x-python",
   "name": "python",
   "nbconvert_exporter": "python",
   "pygments_lexer": "ipython3",
   "version": "3.9.7"
  }
 },
 "nbformat": 4,
 "nbformat_minor": 5
}
