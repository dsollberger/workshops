{
 "cells": [
  {
   "cell_type": "markdown",
   "id": "8ac3780a-b492-4828-99b6-2d7c8f8dd325",
   "metadata": {},
   "source": [
    "# Introduction to Data Analysis in Python\n",
    "\n",
    "\"This survey is the result of a partnership between Axios and Harris Poll to gauge the reputation of the most visible brands in America, based on 20 years of Harris Poll research. From Trader Joe's to Disney, here's how this year's class stacks up.\n",
    "\n",
    "\"Methodology: The Axios Harris Poll 100 is based on a survey of 33,096 Americans in a nationally representative sample conducted March 11-April 3, 2022. The two-step process starts fresh each year by surveying the public’s top-of-mind awareness of companies that either excel or falter in society.\n",
    "\n",
    "\"These 100 “most visible companies” are then ranked by a second group of Americans across the seven key dimensions of reputation to arrive at the ranking. If a company is not on the list, it did not reach a critical level of visibility to be measured.\"\n",
    "\n",
    "The data set is currently hosted in the TidyTuesday repository: https://github.com/rfordatascience/tidytuesday/tree/master/data/2022/2022-05-31"
   ]
  },
  {
   "cell_type": "code",
   "execution_count": 28,
   "id": "b8342633-6c0e-455e-9001-1bb59e80ece9",
   "metadata": {},
   "outputs": [],
   "source": [
    "import matplotlib.pyplot as plt # to add labels and other customization to plots\n",
    "import pandas as pd             # treat incoming data as data frames\n",
    "import seaborn as sns           # modern graphing software"
   ]
  },
  {
   "cell_type": "markdown",
   "id": "47713fc7-0d77-46c2-887b-c751a0a5b8e4",
   "metadata": {},
   "source": [
    "Since we have CSV files (comma-separated values), we can use the `read_csv` function in the `readr` package to load the file into our current programming session."
   ]
  },
  {
   "cell_type": "code",
   "execution_count": 5,
   "id": "8bbe62a3-b1c7-4e92-af0a-25ab527d1760",
   "metadata": {},
   "outputs": [],
   "source": [
    "reputation = pd.read_csv(\"reputation.csv\")\n",
    "reputation_wide = pd.read_csv(\"reputation_wide.csv\")"
   ]
  },
  {
   "cell_type": "markdown",
   "id": "91027e1a-45e3-42cf-921a-1ae9ebc2b7c4",
   "metadata": {},
   "source": [
    "# Exploring the Data\n",
    "\n",
    "One way to take a quick look at the data is with the `head()` method to view the first few rows."
   ]
  },
  {
   "cell_type": "code",
   "execution_count": 3,
   "id": "ea662d3a-fa63-4152-8fa1-ec3927e71f7c",
   "metadata": {},
   "outputs": [
    {
     "data": {
      "text/html": [
       "<div>\n",
       "<style scoped>\n",
       "    .dataframe tbody tr th:only-of-type {\n",
       "        vertical-align: middle;\n",
       "    }\n",
       "\n",
       "    .dataframe tbody tr th {\n",
       "        vertical-align: top;\n",
       "    }\n",
       "\n",
       "    .dataframe thead th {\n",
       "        text-align: right;\n",
       "    }\n",
       "</style>\n",
       "<table border=\"1\" class=\"dataframe\">\n",
       "  <thead>\n",
       "    <tr style=\"text-align: right;\">\n",
       "      <th></th>\n",
       "      <th>company</th>\n",
       "      <th>industry</th>\n",
       "      <th>name</th>\n",
       "      <th>score</th>\n",
       "      <th>rank</th>\n",
       "    </tr>\n",
       "  </thead>\n",
       "  <tbody>\n",
       "    <tr>\n",
       "      <th>0</th>\n",
       "      <td>Trader Joe's</td>\n",
       "      <td>Retail</td>\n",
       "      <td>TRUST</td>\n",
       "      <td>82.7</td>\n",
       "      <td>3</td>\n",
       "    </tr>\n",
       "    <tr>\n",
       "      <th>1</th>\n",
       "      <td>Trader Joe's</td>\n",
       "      <td>Retail</td>\n",
       "      <td>ETHICS</td>\n",
       "      <td>82.5</td>\n",
       "      <td>2</td>\n",
       "    </tr>\n",
       "    <tr>\n",
       "      <th>2</th>\n",
       "      <td>Trader Joe's</td>\n",
       "      <td>Retail</td>\n",
       "      <td>GROWTH</td>\n",
       "      <td>84.1</td>\n",
       "      <td>2</td>\n",
       "    </tr>\n",
       "    <tr>\n",
       "      <th>3</th>\n",
       "      <td>Trader Joe's</td>\n",
       "      <td>Retail</td>\n",
       "      <td>P&amp;S</td>\n",
       "      <td>83.5</td>\n",
       "      <td>9</td>\n",
       "    </tr>\n",
       "    <tr>\n",
       "      <th>4</th>\n",
       "      <td>Trader Joe's</td>\n",
       "      <td>Retail</td>\n",
       "      <td>CITIZENSHIP</td>\n",
       "      <td>80.0</td>\n",
       "      <td>3</td>\n",
       "    </tr>\n",
       "  </tbody>\n",
       "</table>\n",
       "</div>"
      ],
      "text/plain": [
       "        company industry         name  score  rank\n",
       "0  Trader Joe's   Retail        TRUST   82.7     3\n",
       "1  Trader Joe's   Retail       ETHICS   82.5     2\n",
       "2  Trader Joe's   Retail       GROWTH   84.1     2\n",
       "3  Trader Joe's   Retail          P&S   83.5     9\n",
       "4  Trader Joe's   Retail  CITIZENSHIP   80.0     3"
      ]
     },
     "execution_count": 3,
     "metadata": {},
     "output_type": "execute_result"
    }
   ],
   "source": [
    "reputation.head()"
   ]
  },
  {
   "cell_type": "markdown",
   "id": "90a6c2db-17e1-47a3-8eaf-6dcc800bfd12",
   "metadata": {},
   "source": [
    "reputation_wide.head()"
   ]
  },
  {
   "cell_type": "markdown",
   "id": "6c8b98d7-22b7-4608-81e0-1023a29b4f93",
   "metadata": {},
   "source": [
    "For our purposes, we should look at the structure of each data set.  In Pandas, this is processed with the `info()` method.  In particular, this view clarifies which columns are numerical and which are categorical."
   ]
  },
  {
   "cell_type": "code",
   "execution_count": 8,
   "id": "b9ab7a59-eb5b-410a-839b-b6730ca1d00d",
   "metadata": {},
   "outputs": [
    {
     "name": "stdout",
     "output_type": "stream",
     "text": [
      "<class 'pandas.core.frame.DataFrame'>\n",
      "RangeIndex: 700 entries, 0 to 699\n",
      "Data columns (total 5 columns):\n",
      " #   Column    Non-Null Count  Dtype  \n",
      "---  ------    --------------  -----  \n",
      " 0   company   700 non-null    object \n",
      " 1   industry  700 non-null    object \n",
      " 2   name      700 non-null    object \n",
      " 3   score     700 non-null    float64\n",
      " 4   rank      700 non-null    int64  \n",
      "dtypes: float64(1), int64(1), object(3)\n",
      "memory usage: 27.5+ KB\n"
     ]
    }
   ],
   "source": [
    "reputation.info()"
   ]
  },
  {
   "cell_type": "code",
   "execution_count": 11,
   "id": "2814189e-90cb-455d-962b-2794ac134389",
   "metadata": {},
   "outputs": [
    {
     "name": "stdout",
     "output_type": "stream",
     "text": [
      "<class 'pandas.core.frame.DataFrame'>\n",
      "RangeIndex: 100 entries, 0 to 99\n",
      "Data columns (total 9 columns):\n",
      " #   Column       Non-Null Count  Dtype  \n",
      "---  ------       --------------  -----  \n",
      " 0   company      100 non-null    object \n",
      " 1   industry     100 non-null    object \n",
      " 2   trust        100 non-null    float64\n",
      " 3   ethics       100 non-null    float64\n",
      " 4   growth       100 non-null    float64\n",
      " 5   p_s          100 non-null    float64\n",
      " 6   citizenship  100 non-null    float64\n",
      " 7   vision       100 non-null    float64\n",
      " 8   culture      100 non-null    float64\n",
      "dtypes: float64(7), object(2)\n",
      "memory usage: 7.2+ KB\n"
     ]
    }
   ],
   "source": [
    "reputation_wide.info()"
   ]
  },
  {
   "cell_type": "markdown",
   "id": "d9d45ddc-3482-44f9-adaf-eb5fe3fb5247",
   "metadata": {},
   "source": [
    "# Sample Statistics\n",
    "\n",
    "To get a sense of the numbers, we can compute sample statistics (such as the mean, median, and standard deviation) for a numerical variable."
   ]
  },
  {
   "cell_type": "code",
   "execution_count": 19,
   "id": "83d0728b-23bb-4cb1-911e-0dcc03aad35d",
   "metadata": {},
   "outputs": [
    {
     "data": {
      "text/html": [
       "<div>\n",
       "<style scoped>\n",
       "    .dataframe tbody tr th:only-of-type {\n",
       "        vertical-align: middle;\n",
       "    }\n",
       "\n",
       "    .dataframe tbody tr th {\n",
       "        vertical-align: top;\n",
       "    }\n",
       "\n",
       "    .dataframe thead th {\n",
       "        text-align: right;\n",
       "    }\n",
       "</style>\n",
       "<table border=\"1\" class=\"dataframe\">\n",
       "  <thead>\n",
       "    <tr style=\"text-align: right;\">\n",
       "      <th></th>\n",
       "      <th>company</th>\n",
       "      <th>industry</th>\n",
       "      <th>name</th>\n",
       "      <th>score</th>\n",
       "      <th>rank</th>\n",
       "    </tr>\n",
       "  </thead>\n",
       "  <tbody>\n",
       "    <tr>\n",
       "      <th>count</th>\n",
       "      <td>700</td>\n",
       "      <td>700</td>\n",
       "      <td>700</td>\n",
       "      <td>700.000000</td>\n",
       "      <td>700.000000</td>\n",
       "    </tr>\n",
       "    <tr>\n",
       "      <th>unique</th>\n",
       "      <td>100</td>\n",
       "      <td>19</td>\n",
       "      <td>7</td>\n",
       "      <td>NaN</td>\n",
       "      <td>NaN</td>\n",
       "    </tr>\n",
       "    <tr>\n",
       "      <th>top</th>\n",
       "      <td>Trader Joe's</td>\n",
       "      <td>Retail</td>\n",
       "      <td>TRUST</td>\n",
       "      <td>NaN</td>\n",
       "      <td>NaN</td>\n",
       "    </tr>\n",
       "    <tr>\n",
       "      <th>freq</th>\n",
       "      <td>7</td>\n",
       "      <td>154</td>\n",
       "      <td>100</td>\n",
       "      <td>NaN</td>\n",
       "      <td>NaN</td>\n",
       "    </tr>\n",
       "    <tr>\n",
       "      <th>mean</th>\n",
       "      <td>NaN</td>\n",
       "      <td>NaN</td>\n",
       "      <td>NaN</td>\n",
       "      <td>74.819286</td>\n",
       "      <td>50.500000</td>\n",
       "    </tr>\n",
       "    <tr>\n",
       "      <th>std</th>\n",
       "      <td>NaN</td>\n",
       "      <td>NaN</td>\n",
       "      <td>NaN</td>\n",
       "      <td>6.003117</td>\n",
       "      <td>28.886711</td>\n",
       "    </tr>\n",
       "    <tr>\n",
       "      <th>min</th>\n",
       "      <td>NaN</td>\n",
       "      <td>NaN</td>\n",
       "      <td>NaN</td>\n",
       "      <td>51.200000</td>\n",
       "      <td>1.000000</td>\n",
       "    </tr>\n",
       "    <tr>\n",
       "      <th>25%</th>\n",
       "      <td>NaN</td>\n",
       "      <td>NaN</td>\n",
       "      <td>NaN</td>\n",
       "      <td>71.600000</td>\n",
       "      <td>25.750000</td>\n",
       "    </tr>\n",
       "    <tr>\n",
       "      <th>50%</th>\n",
       "      <td>NaN</td>\n",
       "      <td>NaN</td>\n",
       "      <td>NaN</td>\n",
       "      <td>75.900000</td>\n",
       "      <td>50.500000</td>\n",
       "    </tr>\n",
       "    <tr>\n",
       "      <th>75%</th>\n",
       "      <td>NaN</td>\n",
       "      <td>NaN</td>\n",
       "      <td>NaN</td>\n",
       "      <td>79.100000</td>\n",
       "      <td>75.250000</td>\n",
       "    </tr>\n",
       "    <tr>\n",
       "      <th>max</th>\n",
       "      <td>NaN</td>\n",
       "      <td>NaN</td>\n",
       "      <td>NaN</td>\n",
       "      <td>84.900000</td>\n",
       "      <td>100.000000</td>\n",
       "    </tr>\n",
       "  </tbody>\n",
       "</table>\n",
       "</div>"
      ],
      "text/plain": [
       "             company industry   name       score        rank\n",
       "count            700      700    700  700.000000  700.000000\n",
       "unique           100       19      7         NaN         NaN\n",
       "top     Trader Joe's   Retail  TRUST         NaN         NaN\n",
       "freq               7      154    100         NaN         NaN\n",
       "mean             NaN      NaN    NaN   74.819286   50.500000\n",
       "std              NaN      NaN    NaN    6.003117   28.886711\n",
       "min              NaN      NaN    NaN   51.200000    1.000000\n",
       "25%              NaN      NaN    NaN   71.600000   25.750000\n",
       "50%              NaN      NaN    NaN   75.900000   50.500000\n",
       "75%              NaN      NaN    NaN   79.100000   75.250000\n",
       "max              NaN      NaN    NaN   84.900000  100.000000"
      ]
     },
     "execution_count": 19,
     "metadata": {},
     "output_type": "execute_result"
    }
   ],
   "source": [
    "reputation.describe(include = 'all')"
   ]
  },
  {
   "cell_type": "markdown",
   "id": "7e3d8ed4-fee9-469e-87fb-7c2fad73537f",
   "metadata": {},
   "source": [
    "If we want to focus on a column (or multiple columns), we can use the dot notation in the code"
   ]
  },
  {
   "cell_type": "code",
   "execution_count": 17,
   "id": "6f84a928-7f26-48ec-89ab-7564e48eeed6",
   "metadata": {},
   "outputs": [
    {
     "data": {
      "text/plain": [
       "count    700.000000\n",
       "mean      74.819286\n",
       "std        6.003117\n",
       "min       51.200000\n",
       "25%       71.600000\n",
       "50%       75.900000\n",
       "75%       79.100000\n",
       "max       84.900000\n",
       "Name: score, dtype: float64"
      ]
     },
     "execution_count": 17,
     "metadata": {},
     "output_type": "execute_result"
    }
   ],
   "source": [
    "reputation.score.describe()"
   ]
  },
  {
   "cell_type": "markdown",
   "id": "043f4c28-d525-4fda-80d8-0151be4132cb",
   "metadata": {},
   "source": [
    "The Python programming language becomes really useful when we want to perform our tedious calculations across several categories.  Notice how the inclusion of a method in the dot notation below helps us compute the sample statistics for each survey category."
   ]
  },
  {
   "cell_type": "code",
   "execution_count": 16,
   "id": "57fa739f-73a4-4c96-9bc7-db3df7e11753",
   "metadata": {},
   "outputs": [
    {
     "data": {
      "text/html": [
       "<div>\n",
       "<style scoped>\n",
       "    .dataframe tbody tr th:only-of-type {\n",
       "        vertical-align: middle;\n",
       "    }\n",
       "\n",
       "    .dataframe tbody tr th {\n",
       "        vertical-align: top;\n",
       "    }\n",
       "\n",
       "    .dataframe thead th {\n",
       "        text-align: right;\n",
       "    }\n",
       "</style>\n",
       "<table border=\"1\" class=\"dataframe\">\n",
       "  <thead>\n",
       "    <tr style=\"text-align: right;\">\n",
       "      <th></th>\n",
       "      <th>count</th>\n",
       "      <th>mean</th>\n",
       "      <th>std</th>\n",
       "      <th>min</th>\n",
       "      <th>25%</th>\n",
       "      <th>50%</th>\n",
       "      <th>75%</th>\n",
       "      <th>max</th>\n",
       "    </tr>\n",
       "    <tr>\n",
       "      <th>name</th>\n",
       "      <th></th>\n",
       "      <th></th>\n",
       "      <th></th>\n",
       "      <th></th>\n",
       "      <th></th>\n",
       "      <th></th>\n",
       "      <th></th>\n",
       "      <th></th>\n",
       "    </tr>\n",
       "  </thead>\n",
       "  <tbody>\n",
       "    <tr>\n",
       "      <th>CITIZENSHIP</th>\n",
       "      <td>100.0</td>\n",
       "      <td>71.175</td>\n",
       "      <td>5.253731</td>\n",
       "      <td>53.6</td>\n",
       "      <td>68.550</td>\n",
       "      <td>72.20</td>\n",
       "      <td>74.450</td>\n",
       "      <td>81.0</td>\n",
       "    </tr>\n",
       "    <tr>\n",
       "      <th>CULTURE</th>\n",
       "      <td>100.0</td>\n",
       "      <td>74.364</td>\n",
       "      <td>5.961925</td>\n",
       "      <td>53.0</td>\n",
       "      <td>70.750</td>\n",
       "      <td>76.00</td>\n",
       "      <td>78.925</td>\n",
       "      <td>83.1</td>\n",
       "    </tr>\n",
       "    <tr>\n",
       "      <th>ETHICS</th>\n",
       "      <td>100.0</td>\n",
       "      <td>74.014</td>\n",
       "      <td>6.048859</td>\n",
       "      <td>51.2</td>\n",
       "      <td>70.750</td>\n",
       "      <td>75.45</td>\n",
       "      <td>78.125</td>\n",
       "      <td>82.7</td>\n",
       "    </tr>\n",
       "    <tr>\n",
       "      <th>GROWTH</th>\n",
       "      <td>100.0</td>\n",
       "      <td>76.774</td>\n",
       "      <td>5.692714</td>\n",
       "      <td>55.1</td>\n",
       "      <td>73.675</td>\n",
       "      <td>77.85</td>\n",
       "      <td>81.125</td>\n",
       "      <td>84.9</td>\n",
       "    </tr>\n",
       "    <tr>\n",
       "      <th>P&amp;S</th>\n",
       "      <td>100.0</td>\n",
       "      <td>76.341</td>\n",
       "      <td>5.974865</td>\n",
       "      <td>55.7</td>\n",
       "      <td>73.175</td>\n",
       "      <td>78.00</td>\n",
       "      <td>80.625</td>\n",
       "      <td>84.5</td>\n",
       "    </tr>\n",
       "    <tr>\n",
       "      <th>TRUST</th>\n",
       "      <td>100.0</td>\n",
       "      <td>74.062</td>\n",
       "      <td>5.958336</td>\n",
       "      <td>52.9</td>\n",
       "      <td>71.625</td>\n",
       "      <td>75.75</td>\n",
       "      <td>78.250</td>\n",
       "      <td>83.7</td>\n",
       "    </tr>\n",
       "    <tr>\n",
       "      <th>VISION</th>\n",
       "      <td>100.0</td>\n",
       "      <td>77.005</td>\n",
       "      <td>5.022000</td>\n",
       "      <td>59.4</td>\n",
       "      <td>74.400</td>\n",
       "      <td>78.35</td>\n",
       "      <td>80.500</td>\n",
       "      <td>84.8</td>\n",
       "    </tr>\n",
       "  </tbody>\n",
       "</table>\n",
       "</div>"
      ],
      "text/plain": [
       "             count    mean       std   min     25%    50%     75%   max\n",
       "name                                                                   \n",
       "CITIZENSHIP  100.0  71.175  5.253731  53.6  68.550  72.20  74.450  81.0\n",
       "CULTURE      100.0  74.364  5.961925  53.0  70.750  76.00  78.925  83.1\n",
       "ETHICS       100.0  74.014  6.048859  51.2  70.750  75.45  78.125  82.7\n",
       "GROWTH       100.0  76.774  5.692714  55.1  73.675  77.85  81.125  84.9\n",
       "P&S          100.0  76.341  5.974865  55.7  73.175  78.00  80.625  84.5\n",
       "TRUST        100.0  74.062  5.958336  52.9  71.625  75.75  78.250  83.7\n",
       "VISION       100.0  77.005  5.022000  59.4  74.400  78.35  80.500  84.8"
      ]
     },
     "execution_count": 16,
     "metadata": {},
     "output_type": "execute_result"
    }
   ],
   "source": [
    "reputation.groupby('name').score.describe()"
   ]
  },
  {
   "cell_type": "markdown",
   "id": "348ccd44-5da3-48b8-8984-0eb4be1c3eb5",
   "metadata": {},
   "source": [
    "In today's exploration, I am interested in the possible differences in the survey scores across the industries."
   ]
  },
  {
   "cell_type": "code",
   "execution_count": 20,
   "id": "b1d45a65-4b75-442f-bbf9-9baaf9dbfae0",
   "metadata": {},
   "outputs": [
    {
     "data": {
      "text/html": [
       "<div>\n",
       "<style scoped>\n",
       "    .dataframe tbody tr th:only-of-type {\n",
       "        vertical-align: middle;\n",
       "    }\n",
       "\n",
       "    .dataframe tbody tr th {\n",
       "        vertical-align: top;\n",
       "    }\n",
       "\n",
       "    .dataframe thead th {\n",
       "        text-align: right;\n",
       "    }\n",
       "</style>\n",
       "<table border=\"1\" class=\"dataframe\">\n",
       "  <thead>\n",
       "    <tr style=\"text-align: right;\">\n",
       "      <th></th>\n",
       "      <th>count</th>\n",
       "      <th>mean</th>\n",
       "      <th>std</th>\n",
       "      <th>min</th>\n",
       "      <th>25%</th>\n",
       "      <th>50%</th>\n",
       "      <th>75%</th>\n",
       "      <th>max</th>\n",
       "    </tr>\n",
       "    <tr>\n",
       "      <th>industry</th>\n",
       "      <th></th>\n",
       "      <th></th>\n",
       "      <th></th>\n",
       "      <th></th>\n",
       "      <th></th>\n",
       "      <th></th>\n",
       "      <th></th>\n",
       "      <th></th>\n",
       "    </tr>\n",
       "  </thead>\n",
       "  <tbody>\n",
       "    <tr>\n",
       "      <th>Airline</th>\n",
       "      <td>14.0</td>\n",
       "      <td>69.321429</td>\n",
       "      <td>5.103570</td>\n",
       "      <td>62.0</td>\n",
       "      <td>64.400</td>\n",
       "      <td>70.10</td>\n",
       "      <td>73.800</td>\n",
       "      <td>76.0</td>\n",
       "    </tr>\n",
       "    <tr>\n",
       "      <th>Automotive</th>\n",
       "      <td>49.0</td>\n",
       "      <td>78.144898</td>\n",
       "      <td>2.946471</td>\n",
       "      <td>70.6</td>\n",
       "      <td>76.400</td>\n",
       "      <td>78.30</td>\n",
       "      <td>79.700</td>\n",
       "      <td>83.6</td>\n",
       "    </tr>\n",
       "    <tr>\n",
       "      <th>Consumer Goods</th>\n",
       "      <td>28.0</td>\n",
       "      <td>77.342857</td>\n",
       "      <td>2.529738</td>\n",
       "      <td>72.1</td>\n",
       "      <td>75.875</td>\n",
       "      <td>77.75</td>\n",
       "      <td>79.150</td>\n",
       "      <td>81.4</td>\n",
       "    </tr>\n",
       "    <tr>\n",
       "      <th>Ecommerce</th>\n",
       "      <td>28.0</td>\n",
       "      <td>70.100000</td>\n",
       "      <td>7.169948</td>\n",
       "      <td>58.1</td>\n",
       "      <td>65.350</td>\n",
       "      <td>69.35</td>\n",
       "      <td>73.250</td>\n",
       "      <td>84.1</td>\n",
       "    </tr>\n",
       "    <tr>\n",
       "      <th>Energy</th>\n",
       "      <td>21.0</td>\n",
       "      <td>70.276190</td>\n",
       "      <td>4.260271</td>\n",
       "      <td>61.8</td>\n",
       "      <td>66.600</td>\n",
       "      <td>71.10</td>\n",
       "      <td>72.300</td>\n",
       "      <td>77.1</td>\n",
       "    </tr>\n",
       "    <tr>\n",
       "      <th>Financial Services</th>\n",
       "      <td>56.0</td>\n",
       "      <td>74.260714</td>\n",
       "      <td>4.702211</td>\n",
       "      <td>62.1</td>\n",
       "      <td>72.050</td>\n",
       "      <td>74.80</td>\n",
       "      <td>77.700</td>\n",
       "      <td>82.7</td>\n",
       "    </tr>\n",
       "    <tr>\n",
       "      <th>Food &amp; Beverage</th>\n",
       "      <td>77.0</td>\n",
       "      <td>75.668831</td>\n",
       "      <td>4.704596</td>\n",
       "      <td>65.7</td>\n",
       "      <td>72.100</td>\n",
       "      <td>75.40</td>\n",
       "      <td>79.900</td>\n",
       "      <td>84.8</td>\n",
       "    </tr>\n",
       "    <tr>\n",
       "      <th>Food Delivery</th>\n",
       "      <td>14.0</td>\n",
       "      <td>72.692857</td>\n",
       "      <td>2.439251</td>\n",
       "      <td>67.8</td>\n",
       "      <td>71.000</td>\n",
       "      <td>73.00</td>\n",
       "      <td>74.550</td>\n",
       "      <td>75.9</td>\n",
       "    </tr>\n",
       "    <tr>\n",
       "      <th>Groceries</th>\n",
       "      <td>21.0</td>\n",
       "      <td>71.633333</td>\n",
       "      <td>12.629542</td>\n",
       "      <td>51.2</td>\n",
       "      <td>55.700</td>\n",
       "      <td>79.10</td>\n",
       "      <td>80.900</td>\n",
       "      <td>83.1</td>\n",
       "    </tr>\n",
       "    <tr>\n",
       "      <th>Healthcare</th>\n",
       "      <td>14.0</td>\n",
       "      <td>79.107143</td>\n",
       "      <td>2.158512</td>\n",
       "      <td>75.1</td>\n",
       "      <td>77.575</td>\n",
       "      <td>79.45</td>\n",
       "      <td>80.875</td>\n",
       "      <td>81.9</td>\n",
       "    </tr>\n",
       "    <tr>\n",
       "      <th>Industrial</th>\n",
       "      <td>14.0</td>\n",
       "      <td>78.378571</td>\n",
       "      <td>3.129064</td>\n",
       "      <td>73.2</td>\n",
       "      <td>76.475</td>\n",
       "      <td>78.40</td>\n",
       "      <td>80.250</td>\n",
       "      <td>84.3</td>\n",
       "    </tr>\n",
       "    <tr>\n",
       "      <th>Insurance</th>\n",
       "      <td>7.0</td>\n",
       "      <td>75.257143</td>\n",
       "      <td>2.590918</td>\n",
       "      <td>71.2</td>\n",
       "      <td>73.900</td>\n",
       "      <td>75.80</td>\n",
       "      <td>76.450</td>\n",
       "      <td>79.1</td>\n",
       "    </tr>\n",
       "    <tr>\n",
       "      <th>Logistics</th>\n",
       "      <td>14.0</td>\n",
       "      <td>79.092857</td>\n",
       "      <td>2.279833</td>\n",
       "      <td>74.3</td>\n",
       "      <td>77.325</td>\n",
       "      <td>79.45</td>\n",
       "      <td>80.800</td>\n",
       "      <td>82.2</td>\n",
       "    </tr>\n",
       "    <tr>\n",
       "      <th>Media</th>\n",
       "      <td>28.0</td>\n",
       "      <td>67.817857</td>\n",
       "      <td>5.905305</td>\n",
       "      <td>59.2</td>\n",
       "      <td>62.850</td>\n",
       "      <td>67.50</td>\n",
       "      <td>72.150</td>\n",
       "      <td>78.5</td>\n",
       "    </tr>\n",
       "    <tr>\n",
       "      <th>Other</th>\n",
       "      <td>14.0</td>\n",
       "      <td>76.978571</td>\n",
       "      <td>4.314230</td>\n",
       "      <td>70.5</td>\n",
       "      <td>73.025</td>\n",
       "      <td>77.85</td>\n",
       "      <td>80.025</td>\n",
       "      <td>83.5</td>\n",
       "    </tr>\n",
       "    <tr>\n",
       "      <th>Pharma</th>\n",
       "      <td>14.0</td>\n",
       "      <td>74.635714</td>\n",
       "      <td>3.482839</td>\n",
       "      <td>68.0</td>\n",
       "      <td>73.325</td>\n",
       "      <td>74.55</td>\n",
       "      <td>76.350</td>\n",
       "      <td>80.8</td>\n",
       "    </tr>\n",
       "    <tr>\n",
       "      <th>Retail</th>\n",
       "      <td>154.0</td>\n",
       "      <td>75.759740</td>\n",
       "      <td>5.244537</td>\n",
       "      <td>57.9</td>\n",
       "      <td>72.600</td>\n",
       "      <td>76.50</td>\n",
       "      <td>79.450</td>\n",
       "      <td>84.9</td>\n",
       "    </tr>\n",
       "    <tr>\n",
       "      <th>Tech</th>\n",
       "      <td>105.0</td>\n",
       "      <td>74.960000</td>\n",
       "      <td>7.108102</td>\n",
       "      <td>55.8</td>\n",
       "      <td>71.300</td>\n",
       "      <td>76.90</td>\n",
       "      <td>80.400</td>\n",
       "      <td>84.3</td>\n",
       "    </tr>\n",
       "    <tr>\n",
       "      <th>Telecom</th>\n",
       "      <td>28.0</td>\n",
       "      <td>73.728571</td>\n",
       "      <td>3.819430</td>\n",
       "      <td>66.4</td>\n",
       "      <td>71.575</td>\n",
       "      <td>73.10</td>\n",
       "      <td>76.150</td>\n",
       "      <td>81.3</td>\n",
       "    </tr>\n",
       "  </tbody>\n",
       "</table>\n",
       "</div>"
      ],
      "text/plain": [
       "                    count       mean        std   min     25%    50%     75%  \\\n",
       "industry                                                                       \n",
       "Airline              14.0  69.321429   5.103570  62.0  64.400  70.10  73.800   \n",
       "Automotive           49.0  78.144898   2.946471  70.6  76.400  78.30  79.700   \n",
       "Consumer Goods       28.0  77.342857   2.529738  72.1  75.875  77.75  79.150   \n",
       "Ecommerce            28.0  70.100000   7.169948  58.1  65.350  69.35  73.250   \n",
       "Energy               21.0  70.276190   4.260271  61.8  66.600  71.10  72.300   \n",
       "Financial Services   56.0  74.260714   4.702211  62.1  72.050  74.80  77.700   \n",
       "Food & Beverage      77.0  75.668831   4.704596  65.7  72.100  75.40  79.900   \n",
       "Food Delivery        14.0  72.692857   2.439251  67.8  71.000  73.00  74.550   \n",
       "Groceries            21.0  71.633333  12.629542  51.2  55.700  79.10  80.900   \n",
       "Healthcare           14.0  79.107143   2.158512  75.1  77.575  79.45  80.875   \n",
       "Industrial           14.0  78.378571   3.129064  73.2  76.475  78.40  80.250   \n",
       "Insurance             7.0  75.257143   2.590918  71.2  73.900  75.80  76.450   \n",
       "Logistics            14.0  79.092857   2.279833  74.3  77.325  79.45  80.800   \n",
       "Media                28.0  67.817857   5.905305  59.2  62.850  67.50  72.150   \n",
       "Other                14.0  76.978571   4.314230  70.5  73.025  77.85  80.025   \n",
       "Pharma               14.0  74.635714   3.482839  68.0  73.325  74.55  76.350   \n",
       "Retail              154.0  75.759740   5.244537  57.9  72.600  76.50  79.450   \n",
       "Tech                105.0  74.960000   7.108102  55.8  71.300  76.90  80.400   \n",
       "Telecom              28.0  73.728571   3.819430  66.4  71.575  73.10  76.150   \n",
       "\n",
       "                     max  \n",
       "industry                  \n",
       "Airline             76.0  \n",
       "Automotive          83.6  \n",
       "Consumer Goods      81.4  \n",
       "Ecommerce           84.1  \n",
       "Energy              77.1  \n",
       "Financial Services  82.7  \n",
       "Food & Beverage     84.8  \n",
       "Food Delivery       75.9  \n",
       "Groceries           83.1  \n",
       "Healthcare          81.9  \n",
       "Industrial          84.3  \n",
       "Insurance           79.1  \n",
       "Logistics           82.2  \n",
       "Media               78.5  \n",
       "Other               83.5  \n",
       "Pharma              80.8  \n",
       "Retail              84.9  \n",
       "Tech                84.3  \n",
       "Telecom             81.3  "
      ]
     },
     "execution_count": 20,
     "metadata": {},
     "output_type": "execute_result"
    }
   ],
   "source": [
    "reputation.groupby('industry').score.describe()"
   ]
  },
  {
   "cell_type": "markdown",
   "id": "63e9f122-24e6-4970-8e13-8b4fba916f3d",
   "metadata": {},
   "source": [
    "# Data Visualization"
   ]
  },
  {
   "cell_type": "markdown",
   "id": "d03e7dd3-39bb-4f78-82f9-9d8de083f5c4",
   "metadata": {},
   "source": [
    "## Histrogram\n",
    "\n",
    "A histogram allows us to visualize the distribution of one numerical variable."
   ]
  },
  {
   "cell_type": "code",
   "execution_count": 45,
   "id": "47c45fe9-3300-4161-b245-db363688f986",
   "metadata": {},
   "outputs": [
    {
     "data": {
      "text/plain": [
       "<AxesSubplot:xlabel='score', ylabel='Count'>"
      ]
     },
     "execution_count": 45,
     "metadata": {},
     "output_type": "execute_result"
    },
    {
     "data": {
      "image/png": "[encoded data removed]",
      "text/plain": [
       "<Figure size 432x288 with 1 Axes>"
      ]
     },
     "metadata": {
      "needs_background": "light"
     },
     "output_type": "display_data"
    }
   ],
   "source": [
    "sns.histplot(reputation, x = \"score\")"
   ]
  },
  {
   "cell_type": "markdown",
   "id": "2cc990e3-731a-4c08-9bc0-579a7ba85a4c",
   "metadata": {},
   "source": [
    "## Scatterplot\n",
    "\n",
    "A scatterplot allows us to visualize a pair of numerical variables."
   ]
  },
  {
   "cell_type": "code",
   "execution_count": 42,
   "id": "dc4fb377-e114-411c-8f29-b4672e8ccdfd",
   "metadata": {},
   "outputs": [
    {
     "data": {
      "text/plain": [
       "<AxesSubplot:xlabel='trust', ylabel='culture'>"
      ]
     },
     "execution_count": 42,
     "metadata": {},
     "output_type": "execute_result"
    },
    {
     "data": {
      "image/png": "[encoded data removed]",
      "text/plain": [
       "<Figure size 432x288 with 1 Axes>"
      ]
     },
     "metadata": {
      "needs_background": "light"
     },
     "output_type": "display_data"
    }
   ],
   "source": [
    "sns.scatterplot(x = 'trust', y = 'culture', data = reputation_wide)"
   ]
  },
  {
   "cell_type": "markdown",
   "id": "d6bd5dac-9bea-4697-9bb9-1714dbc23fa2",
   "metadata": {},
   "source": [
    "It is a good habit to label your graphs."
   ]
  },
  {
   "cell_type": "code",
   "execution_count": 41,
   "id": "2a60a6a4-8dc2-4320-9030-81a0e69893cc",
   "metadata": {},
   "outputs": [
    {
     "data": {
      "image/png": "[encoded data removed]",
      "text/plain": [
       "<Figure size 432x288 with 1 Axes>"
      ]
     },
     "metadata": {
      "needs_background": "light"
     },
     "output_type": "display_data"
    }
   ],
   "source": [
    "my_plot = sns.scatterplot(x = 'trust', y = 'culture', data = reputation_wide)\n",
    "my_plot.set(title = \"Company Reputation Poll\", xlabel = \"trust score\", ylabel = \"culture score\")\n",
    "plt.show(my_plot)"
   ]
  },
  {
   "cell_type": "markdown",
   "id": "8832f212-7c63-4e9a-9747-211c74c2a657",
   "metadata": {},
   "source": [
    "For a scatterplot, we can include the correlation calculation."
   ]
  },
  {
   "cell_type": "code",
   "execution_count": 40,
   "id": "6662500a-100c-4828-b413-dc1bf328c159",
   "metadata": {},
   "outputs": [
    {
     "data": {
      "image/png": "[encoded data removed]",
      "text/plain": [
       "<Figure size 432x288 with 1 Axes>"
      ]
     },
     "metadata": {
      "needs_background": "light"
     },
     "output_type": "display_data"
    }
   ],
   "source": [
    "# computing the Pearson correlation between the trust and culture scores\n",
    "corr_value = reputation_wide.trust.corr(reputation_wide.culture)\n",
    "\n",
    "my_plot = sns.scatterplot(x = 'trust', y = 'culture', data = reputation_wide)\n",
    "my_plot.set(title = \"Company Reputation Poll (r = \" + str(round(corr_value, 4)) + \")\", \n",
    "            xlabel = \"trust score\", ylabel = \"culture score\")\n",
    "plt.show(my_plot)"
   ]
  },
  {
   "cell_type": "markdown",
   "id": "c35b2029-8c45-4ff8-b191-aae18e2d2187",
   "metadata": {},
   "source": [
    "## Boxplot\n",
    "\n",
    "A boxplot allows us to visualize numerical distributions across a categorical variable."
   ]
  },
  {
   "cell_type": "code",
   "execution_count": 39,
   "id": "fed4d6c0-186f-4599-8ac0-d880076eb2e6",
   "metadata": {},
   "outputs": [
    {
     "data": {
      "text/plain": [
       "<AxesSubplot:ylabel='score'>"
      ]
     },
     "execution_count": 39,
     "metadata": {},
     "output_type": "execute_result"
    },
    {
     "data": {
      "image/png": "[encoded data removed]",
      "text/plain": [
       "<Figure size 432x288 with 1 Axes>"
      ]
     },
     "metadata": {
      "needs_background": "light"
     },
     "output_type": "display_data"
    }
   ],
   "source": [
    "sns.boxplot(y = reputation.score)"
   ]
  },
  {
   "cell_type": "code",
   "execution_count": 46,
   "id": "55e855c3-ef46-4a08-9560-30456237b67a",
   "metadata": {},
   "outputs": [
    {
     "data": {
      "text/plain": [
       "<AxesSubplot:xlabel='name', ylabel='score'>"
      ]
     },
     "execution_count": 46,
     "metadata": {},
     "output_type": "execute_result"
    },
    {
     "data": {
      "image/png": "[encoded data removed]",
      "text/plain": [
       "<Figure size 432x288 with 1 Axes>"
      ]
     },
     "metadata": {
      "needs_background": "light"
     },
     "output_type": "display_data"
    }
   ],
   "source": [
    "sns.boxplot(x = reputation.name, y = reputation.score)"
   ]
  },
  {
   "cell_type": "markdown",
   "id": "095f0592-be73-45fa-9c72-ea46ac63fc4a",
   "metadata": {},
   "source": [
    "Let us see what happens if we explore the `industry` categorical variable."
   ]
  },
  {
   "cell_type": "code",
   "execution_count": 47,
   "id": "d84f8463-21c9-4bc1-b157-fe97b7b214f4",
   "metadata": {},
   "outputs": [
    {
     "data": {
      "text/plain": [
       "<AxesSubplot:xlabel='industry', ylabel='score'>"
      ]
     },
     "execution_count": 47,
     "metadata": {},
     "output_type": "execute_result"
    },
    {
     "data": {
      "image/png": "[encoded data removed]",
      "text/plain": [
       "<Figure size 432x288 with 1 Axes>"
      ]
     },
     "metadata": {
      "needs_background": "light"
     },
     "output_type": "display_data"
    }
   ],
   "source": [
    "sns.boxplot(x = reputation.industry, y = reputation.score)"
   ]
  },
  {
   "cell_type": "markdown",
   "id": "a08f8da3-8733-4a71-8417-0e836eee1881",
   "metadata": {},
   "source": [
    "To start to ease the complexity, we can (for example) focus on two of the categories"
   ]
  },
  {
   "cell_type": "code",
   "execution_count": 53,
   "id": "946b6b77-4030-4c68-a170-4303963d3ba2",
   "metadata": {},
   "outputs": [
    {
     "data": {
      "text/plain": [
       "<AxesSubplot:xlabel='industry', ylabel='score'>"
      ]
     },
     "execution_count": 53,
     "metadata": {},
     "output_type": "execute_result"
    },
    {
     "data": {
      "image/png": "[encoded data removed]",
      "text/plain": [
       "<Figure size 432x288 with 1 Axes>"
      ]
     },
     "metadata": {
      "needs_background": "light"
     },
     "output_type": "display_data"
    }
   ],
   "source": [
    "reputation_subset = reputation[reputation.industry.isin(['Healthcare', 'Media'])]\n",
    "\n",
    "sns.boxplot(x = reputation_subset.industry, y = reputation_subset.score)"
   ]
  },
  {
   "cell_type": "code",
   "execution_count": 55,
   "id": "0c34151e-ba55-4c4d-ba40-355cf0519a12",
   "metadata": {},
   "outputs": [
    {
     "data": {
      "image/png": "[encoded data removed]",
      "text/plain": [
       "<Figure size 432x288 with 1 Axes>"
      ]
     },
     "metadata": {
      "needs_background": "light"
     },
     "output_type": "display_data"
    }
   ],
   "source": [
    "reputation_subset = reputation[reputation.industry.isin(['Healthcare', 'Media'])]\n",
    "\n",
    "my_plot = sns.boxplot(x = reputation_subset.industry, y = reputation_subset.score)\n",
    "my_plot.set(title = \"Company Reputation Survey\\nMarch 11 to April 3, 2022\\nSource: Axios and Harris, TidyTuesday\",\n",
    "            xlabel = \"industry\", ylabel = \"reputation score\")\n",
    "plt.show(my_plot)"
   ]
  }
 ],
 "metadata": {
  "kernelspec": {
   "display_name": "Python 3 (ipykernel)",
   "language": "python",
   "name": "python3"
  },
  "language_info": {
   "codemirror_mode": {
    "name": "ipython",
    "version": 3
   },
   "file_extension": ".py",
   "mimetype": "text/x-python",
   "name": "python",
   "nbconvert_exporter": "python",
   "pygments_lexer": "ipython3",
   "version": "3.9.7"
  }
 },
 "nbformat": 4,
 "nbformat_minor": 5
}
