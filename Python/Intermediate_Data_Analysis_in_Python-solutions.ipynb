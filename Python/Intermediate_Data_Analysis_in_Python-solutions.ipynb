{
 "cells": [
  {
   "cell_type": "markdown",
   "id": "8ac3780a-b492-4828-99b6-2d7c8f8dd325",
   "metadata": {},
   "source": [
    "# Intermediate Data Analysis in Python\n",
    "\n",
    "\"This survey is the result of a partnership between Axios and Harris Poll to gauge the reputation of the most visible brands in America, based on 20 years of Harris Poll research. From Trader Joe's to Disney, here's how this year's class stacks up.\n",
    "\n",
    "\"Methodology: The Axios Harris Poll 100 is based on a survey of 33,096 Americans in a nationally representative sample conducted March 11-April 3, 2022. The two-step process starts fresh each year by surveying the public’s top-of-mind awareness of companies that either excel or falter in society.\n",
    "\n",
    "\"These 100 'most visible companies' are then ranked by a second group of Americans across the seven key dimensions of reputation to arrive at the ranking. If a company is not on the list, it did not reach a critical level of visibility to be measured.\"\n",
    "\n",
    "The data set is currently hosted in the TidyTuesday repository: https://github.com/rfordatascience/tidytuesday/tree/master/data/2022/2022-05-31"
   ]
  },
  {
   "cell_type": "code",
   "execution_count": 73,
   "id": "b8342633-6c0e-455e-9001-1bb59e80ece9",
   "metadata": {},
   "outputs": [],
   "source": [
    "import matplotlib.pyplot as plt # to add labels and other customization to plots\n",
    "import numpy as np              # advanced calculations (i.e. beyond arithmetic)\n",
    "import pandas as pd             # treat incoming data as data frames\n",
    "import seaborn as sns           # modern graphing software\n",
    "import scipy                    # advanced calculations (college level)"
   ]
  },
  {
   "cell_type": "markdown",
   "id": "47713fc7-0d77-46c2-887b-c751a0a5b8e4",
   "metadata": {},
   "source": [
    "Since we have CSV files (comma-separated values), we can use the `read_csv` function in the `pandas` package to load the file into our current programming session."
   ]
  },
  {
   "cell_type": "code",
   "execution_count": 74,
   "id": "8bbe62a3-b1c7-4e92-af0a-25ab527d1760",
   "metadata": {},
   "outputs": [],
   "source": [
    "reputation = pd.read_csv(\"reputation.csv\")\n",
    "reputation_wide = pd.read_csv(\"reputation_wide.csv\")"
   ]
  },
  {
   "cell_type": "markdown",
   "id": "91027e1a-45e3-42cf-921a-1ae9ebc2b7c4",
   "metadata": {},
   "source": [
    "# Reshaping Data Frames\n",
    "\n",
    "You have noticed that for these examples, I have employed two slightly different data frames.  Each had situations where it was then easier to employ Python code.  Those data frames were made with the `melt()` and `pivot()` methods."
   ]
  },
  {
   "cell_type": "code",
   "execution_count": 75,
   "id": "9deb3047-1772-4461-9818-fec5a92c9798",
   "metadata": {},
   "outputs": [],
   "source": [
    "#reputatation_long = pd.melt(reputation_wide,\n",
    "#                            id_vars = ['company', 'industry'],\n",
    "#                            var_name = 'name',\n",
    "#                            value_name = 'score')"
   ]
  },
  {
   "cell_type": "code",
   "execution_count": 76,
   "id": "524fe0cf-c8ea-4a34-8c3e-b5726b311b92",
   "metadata": {},
   "outputs": [],
   "source": [
    "#reputation_wide = reputation.pivot(index = ['company', 'industry'], columns = 'name', values = 'score')\n",
    "#reputation_wide.head()"
   ]
  },
  {
   "cell_type": "markdown",
   "id": "6c8b98d7-22b7-4608-81e0-1023a29b4f93",
   "metadata": {},
   "source": [
    "# Confidence Intervals\n",
    "\n",
    "If our data is a *sample*, can we generalize to a larger *population*?  The field of statistics employs **confidence intervals**.\n",
    "\n",
    "For example, what is the true population mean for the ethics score for the food delivery industry?  We can use the a bootstrap distribution to handle the simulation and computation."
   ]
  },
  {
   "cell_type": "code",
   "execution_count": 77,
   "id": "b9ab7a59-eb5b-410a-839b-b6730ca1d00d",
   "metadata": {},
   "outputs": [
    {
     "data": {
      "text/plain": [
       "array([70.5, 74.6])"
      ]
     },
     "execution_count": 77,
     "metadata": {},
     "output_type": "execute_result"
    }
   ],
   "source": [
    "reputation_subset = reputation_wide[reputation_wide.industry == 'Food Delivery']\n",
    "bootstrap_dist = [np.random.choice(reputation_subset.ethics,\n",
    "                                   size = len(reputation_subset.ethics),\n",
    "                                   replace = True).mean()\n",
    "                  for i in range(1000)]\n",
    "np.percentile(bootstrap_dist, [2.5, 97.5])"
   ]
  },
  {
   "cell_type": "markdown",
   "id": "0f8aa018-1446-4504-9bc2-1c628e66a345",
   "metadata": {},
   "source": [
    "We are 95 percent confident that the true population mean for the ethics score for the food delivery industry is in between 70.5 and 74.6 (on a scale from 0 to 100)."
   ]
  },
  {
   "cell_type": "markdown",
   "id": "d9d45ddc-3482-44f9-adaf-eb5fe3fb5247",
   "metadata": {},
   "source": [
    "# Hypothesis Testing\n",
    "\n",
    "## Example 1\n",
    "\n",
    "* null hypothesis: the healthcare and media industries have the same reputation score\n",
    "* alternative hypothesis: the healthcare and media industries have different reputation scores\n",
    "\n",
    "$$H_{o}: \\mu_{1} = \\mu_{2}$$\n",
    "$$H_{a}: \\mu_{1} \\neq \\mu_{2}$$"
   ]
  },
  {
   "cell_type": "code",
   "execution_count": 78,
   "id": "4a5a0287-8cd5-4213-aa8f-a3080510c8c3",
   "metadata": {},
   "outputs": [
    {
     "data": {
      "image/png": "[encoded data removed]",
      "text/plain": [
       "<Figure size 432x288 with 1 Axes>"
      ]
     },
     "metadata": {
      "needs_background": "light"
     },
     "output_type": "display_data"
    }
   ],
   "source": [
    "reputation_subset = reputation[reputation.industry.isin(['Healthcare', 'Media'])]\n",
    "\n",
    "my_plot = sns.boxplot(x = reputation_subset.industry, y = reputation_subset.score)\n",
    "my_plot.set(title = \"Company Reputation Survey\\nMarch 11 to April 3, 2022\\nSource: Axios and Harris, TidyTuesday\",\n",
    "            xlabel = \"industry\", ylabel = \"reputation score\")\n",
    "plt.show(my_plot)"
   ]
  },
  {
   "cell_type": "code",
   "execution_count": 79,
   "id": "83d0728b-23bb-4cb1-911e-0dcc03aad35d",
   "metadata": {},
   "outputs": [
    {
     "name": "stdout",
     "output_type": "stream",
     "text": [
      "2.664685771799002e-08\n"
     ]
    }
   ],
   "source": [
    "group_A = reputation[reputation.industry == 'Healthcare']\n",
    "group_B = reputation[reputation.industry == 'Media']\n",
    "t_statistic, p_value = stats.ttest_ind(group_A.score, group_B.score)\n",
    "print(p_value)"
   ]
  },
  {
   "cell_type": "markdown",
   "id": "7e3d8ed4-fee9-469e-87fb-7c2fad73537f",
   "metadata": {},
   "source": [
    "Since the p-value < 0.05, we reject the claim of equal means between the healthcare and media industries."
   ]
  },
  {
   "cell_type": "markdown",
   "id": "c72924db-5bd6-49e2-b9fc-50cb98adf5ef",
   "metadata": {},
   "source": [
    "## Example 2\n",
    "\n",
    "* null hypothesis: the pharmacy and retail industries have the same reputation score\n",
    "* alternative hypothesis: the pharmacy and retail industries have different reputation scores\n",
    "\n",
    "$$H_{o}: \\mu_{1} = \\mu_{2}$$\n",
    "$$H_{a}: \\mu_{1} \\neq \\mu_{2}$$"
   ]
  },
  {
   "cell_type": "code",
   "execution_count": 80,
   "id": "6f84a928-7f26-48ec-89ab-7564e48eeed6",
   "metadata": {},
   "outputs": [
    {
     "data": {
      "image/png": "[encoded data removed]",
      "text/plain": [
       "<Figure size 432x288 with 1 Axes>"
      ]
     },
     "metadata": {
      "needs_background": "light"
     },
     "output_type": "display_data"
    }
   ],
   "source": [
    "reputation_subset = reputation[reputation.industry.isin(['Pharma', 'Retail'])]\n",
    "\n",
    "my_plot = sns.boxplot(x = reputation_subset.industry, y = reputation_subset.score)\n",
    "my_plot.set(title = \"Company Reputation Survey\\nMarch 11 to April 3, 2022\\nSource: Axios and Harris, TidyTuesday\",\n",
    "            xlabel = \"industry\", ylabel = \"reputation score\")\n",
    "plt.show(my_plot)"
   ]
  },
  {
   "cell_type": "code",
   "execution_count": 81,
   "id": "8825d87d-208d-4c66-ae9a-1252e5af8f3c",
   "metadata": {},
   "outputs": [
    {
     "name": "stdout",
     "output_type": "stream",
     "text": [
      "0.43347789772194834\n"
     ]
    }
   ],
   "source": [
    "group_A = reputation[reputation.industry == 'Retail']\n",
    "group_B = reputation[reputation.industry == 'Pharma']\n",
    "t_statistic, p_value = stats.ttest_ind(group_A.score, group_B.score)\n",
    "print(p_value)"
   ]
  },
  {
   "cell_type": "markdown",
   "id": "348ccd44-5da3-48b8-8984-0eb4be1c3eb5",
   "metadata": {},
   "source": [
    "Since the p-value > 0.05, we fail to reject the claim of equal means between the pharmacy and retail industries."
   ]
  },
  {
   "cell_type": "markdown",
   "id": "92056072-3576-4993-a966-b6fe59ead1bf",
   "metadata": {},
   "source": [
    "# Correlation Matrix\n",
    "\n",
    "To visualize many correlation values between pairs of numerical variables, we can build a correlation matrix."
   ]
  },
  {
   "cell_type": "code",
   "execution_count": 89,
   "id": "a58f860d-f664-4386-bdba-19cc0c8eab0d",
   "metadata": {},
   "outputs": [
    {
     "data": {
      "text/html": [
       "<style type=\"text/css\">\n",
       "#T_0edeb_row0_col0, #T_0edeb_row1_col1, #T_0edeb_row2_col2, #T_0edeb_row3_col3, #T_0edeb_row4_col4, #T_0edeb_row5_col5, #T_0edeb_row6_col6 {\n",
       "  background-color: #b40426;\n",
       "  color: #f1f1f1;\n",
       "}\n",
       "#T_0edeb_row0_col1 {\n",
       "  background-color: #f4987a;\n",
       "  color: #000000;\n",
       "}\n",
       "#T_0edeb_row0_col2, #T_0edeb_row0_col5, #T_0edeb_row0_col6, #T_0edeb_row2_col0, #T_0edeb_row2_col1, #T_0edeb_row3_col4, #T_0edeb_row4_col3 {\n",
       "  background-color: #3b4cc0;\n",
       "  color: #f1f1f1;\n",
       "}\n",
       "#T_0edeb_row0_col3, #T_0edeb_row5_col4 {\n",
       "  background-color: #4f69d9;\n",
       "  color: #f1f1f1;\n",
       "}\n",
       "#T_0edeb_row0_col4 {\n",
       "  background-color: #f59f80;\n",
       "  color: #000000;\n",
       "}\n",
       "#T_0edeb_row1_col0 {\n",
       "  background-color: #ee8669;\n",
       "  color: #f1f1f1;\n",
       "}\n",
       "#T_0edeb_row1_col2 {\n",
       "  background-color: #7396f5;\n",
       "  color: #f1f1f1;\n",
       "}\n",
       "#T_0edeb_row1_col3 {\n",
       "  background-color: #81a4fb;\n",
       "  color: #f1f1f1;\n",
       "}\n",
       "#T_0edeb_row1_col4 {\n",
       "  background-color: #f6a586;\n",
       "  color: #000000;\n",
       "}\n",
       "#T_0edeb_row1_col5 {\n",
       "  background-color: #94b6ff;\n",
       "  color: #000000;\n",
       "}\n",
       "#T_0edeb_row1_col6 {\n",
       "  background-color: #9abbff;\n",
       "  color: #000000;\n",
       "}\n",
       "#T_0edeb_row2_col3 {\n",
       "  background-color: #b7cff9;\n",
       "  color: #000000;\n",
       "}\n",
       "#T_0edeb_row2_col4 {\n",
       "  background-color: #4a63d3;\n",
       "  color: #f1f1f1;\n",
       "}\n",
       "#T_0edeb_row2_col5 {\n",
       "  background-color: #f7ad90;\n",
       "  color: #000000;\n",
       "}\n",
       "#T_0edeb_row2_col6 {\n",
       "  background-color: #8caffe;\n",
       "  color: #000000;\n",
       "}\n",
       "#T_0edeb_row3_col0 {\n",
       "  background-color: #6a8bef;\n",
       "  color: #f1f1f1;\n",
       "}\n",
       "#T_0edeb_row3_col1 {\n",
       "  background-color: #6384eb;\n",
       "  color: #f1f1f1;\n",
       "}\n",
       "#T_0edeb_row3_col2 {\n",
       "  background-color: #c9d7f0;\n",
       "  color: #000000;\n",
       "}\n",
       "#T_0edeb_row3_col5 {\n",
       "  background-color: #b2ccfb;\n",
       "  color: #000000;\n",
       "}\n",
       "#T_0edeb_row3_col6 {\n",
       "  background-color: #afcafc;\n",
       "  color: #000000;\n",
       "}\n",
       "#T_0edeb_row4_col0 {\n",
       "  background-color: #f39778;\n",
       "  color: #000000;\n",
       "}\n",
       "#T_0edeb_row4_col1 {\n",
       "  background-color: #f7b093;\n",
       "  color: #000000;\n",
       "}\n",
       "#T_0edeb_row4_col2 {\n",
       "  background-color: #6485ec;\n",
       "  color: #f1f1f1;\n",
       "}\n",
       "#T_0edeb_row4_col5 {\n",
       "  background-color: #3c4ec2;\n",
       "  color: #f1f1f1;\n",
       "}\n",
       "#T_0edeb_row4_col6 {\n",
       "  background-color: #3e51c5;\n",
       "  color: #f1f1f1;\n",
       "}\n",
       "#T_0edeb_row5_col0 {\n",
       "  background-color: #6788ee;\n",
       "  color: #f1f1f1;\n",
       "}\n",
       "#T_0edeb_row5_col1 {\n",
       "  background-color: #89acfd;\n",
       "  color: #000000;\n",
       "}\n",
       "#T_0edeb_row5_col2 {\n",
       "  background-color: #f59d7e;\n",
       "  color: #000000;\n",
       "}\n",
       "#T_0edeb_row5_col3 {\n",
       "  background-color: #c0d4f5;\n",
       "  color: #000000;\n",
       "}\n",
       "#T_0edeb_row5_col6 {\n",
       "  background-color: #7597f6;\n",
       "  color: #f1f1f1;\n",
       "}\n",
       "#T_0edeb_row6_col0 {\n",
       "  background-color: #c5d6f2;\n",
       "  color: #000000;\n",
       "}\n",
       "#T_0edeb_row6_col1 {\n",
       "  background-color: #dbdcde;\n",
       "  color: #000000;\n",
       "}\n",
       "#T_0edeb_row6_col2 {\n",
       "  background-color: #ebd3c6;\n",
       "  color: #000000;\n",
       "}\n",
       "#T_0edeb_row6_col3 {\n",
       "  background-color: #efcebd;\n",
       "  color: #000000;\n",
       "}\n",
       "#T_0edeb_row6_col4 {\n",
       "  background-color: #b6cefa;\n",
       "  color: #000000;\n",
       "}\n",
       "#T_0edeb_row6_col5 {\n",
       "  background-color: #cdd9ec;\n",
       "  color: #000000;\n",
       "}\n",
       "</style>\n",
       "<table id=\"T_0edeb_\">\n",
       "  <thead>\n",
       "    <tr>\n",
       "      <th class=\"blank level0\" >&nbsp;</th>\n",
       "      <th class=\"col_heading level0 col0\" >trust</th>\n",
       "      <th class=\"col_heading level0 col1\" >ethics</th>\n",
       "      <th class=\"col_heading level0 col2\" >growth</th>\n",
       "      <th class=\"col_heading level0 col3\" >p_s</th>\n",
       "      <th class=\"col_heading level0 col4\" >citizenship</th>\n",
       "      <th class=\"col_heading level0 col5\" >vision</th>\n",
       "      <th class=\"col_heading level0 col6\" >culture</th>\n",
       "    </tr>\n",
       "  </thead>\n",
       "  <tbody>\n",
       "    <tr>\n",
       "      <th id=\"T_0edeb_level0_row0\" class=\"row_heading level0 row0\" >trust</th>\n",
       "      <td id=\"T_0edeb_row0_col0\" class=\"data row0 col0\" >1.00</td>\n",
       "      <td id=\"T_0edeb_row0_col1\" class=\"data row0 col1\" >0.96</td>\n",
       "      <td id=\"T_0edeb_row0_col2\" class=\"data row0 col2\" >0.82</td>\n",
       "      <td id=\"T_0edeb_row0_col3\" class=\"data row0 col3\" >0.85</td>\n",
       "      <td id=\"T_0edeb_row0_col4\" class=\"data row0 col4\" >0.96</td>\n",
       "      <td id=\"T_0edeb_row0_col5\" class=\"data row0 col5\" >0.85</td>\n",
       "      <td id=\"T_0edeb_row0_col6\" class=\"data row0 col6\" >0.90</td>\n",
       "    </tr>\n",
       "    <tr>\n",
       "      <th id=\"T_0edeb_level0_row1\" class=\"row_heading level0 row1\" >ethics</th>\n",
       "      <td id=\"T_0edeb_row1_col0\" class=\"data row1 col0\" >0.96</td>\n",
       "      <td id=\"T_0edeb_row1_col1\" class=\"data row1 col1\" >1.00</td>\n",
       "      <td id=\"T_0edeb_row1_col2\" class=\"data row1 col2\" >0.86</td>\n",
       "      <td id=\"T_0edeb_row1_col3\" class=\"data row1 col3\" >0.87</td>\n",
       "      <td id=\"T_0edeb_row1_col4\" class=\"data row1 col4\" >0.96</td>\n",
       "      <td id=\"T_0edeb_row1_col5\" class=\"data row1 col5\" >0.89</td>\n",
       "      <td id=\"T_0edeb_row1_col6\" class=\"data row1 col6\" >0.93</td>\n",
       "    </tr>\n",
       "    <tr>\n",
       "      <th id=\"T_0edeb_level0_row2\" class=\"row_heading level0 row2\" >growth</th>\n",
       "      <td id=\"T_0edeb_row2_col0\" class=\"data row2 col0\" >0.82</td>\n",
       "      <td id=\"T_0edeb_row2_col1\" class=\"data row2 col1\" >0.86</td>\n",
       "      <td id=\"T_0edeb_row2_col2\" class=\"data row2 col2\" >1.00</td>\n",
       "      <td id=\"T_0edeb_row2_col3\" class=\"data row2 col3\" >0.90</td>\n",
       "      <td id=\"T_0edeb_row2_col4\" class=\"data row2 col4\" >0.85</td>\n",
       "      <td id=\"T_0edeb_row2_col5\" class=\"data row2 col5\" >0.95</td>\n",
       "      <td id=\"T_0edeb_row2_col6\" class=\"data row2 col6\" >0.92</td>\n",
       "    </tr>\n",
       "    <tr>\n",
       "      <th id=\"T_0edeb_level0_row3\" class=\"row_heading level0 row3\" >p_s</th>\n",
       "      <td id=\"T_0edeb_row3_col0\" class=\"data row3 col0\" >0.85</td>\n",
       "      <td id=\"T_0edeb_row3_col1\" class=\"data row3 col1\" >0.87</td>\n",
       "      <td id=\"T_0edeb_row3_col2\" class=\"data row3 col2\" >0.90</td>\n",
       "      <td id=\"T_0edeb_row3_col3\" class=\"data row3 col3\" >1.00</td>\n",
       "      <td id=\"T_0edeb_row3_col4\" class=\"data row3 col4\" >0.84</td>\n",
       "      <td id=\"T_0edeb_row3_col5\" class=\"data row3 col5\" >0.90</td>\n",
       "      <td id=\"T_0edeb_row3_col6\" class=\"data row3 col6\" >0.93</td>\n",
       "    </tr>\n",
       "    <tr>\n",
       "      <th id=\"T_0edeb_level0_row4\" class=\"row_heading level0 row4\" >citizenship</th>\n",
       "      <td id=\"T_0edeb_row4_col0\" class=\"data row4 col0\" >0.96</td>\n",
       "      <td id=\"T_0edeb_row4_col1\" class=\"data row4 col1\" >0.96</td>\n",
       "      <td id=\"T_0edeb_row4_col2\" class=\"data row4 col2\" >0.85</td>\n",
       "      <td id=\"T_0edeb_row4_col3\" class=\"data row4 col3\" >0.84</td>\n",
       "      <td id=\"T_0edeb_row4_col4\" class=\"data row4 col4\" >1.00</td>\n",
       "      <td id=\"T_0edeb_row4_col5\" class=\"data row4 col5\" >0.85</td>\n",
       "      <td id=\"T_0edeb_row4_col6\" class=\"data row4 col6\" >0.90</td>\n",
       "    </tr>\n",
       "    <tr>\n",
       "      <th id=\"T_0edeb_level0_row5\" class=\"row_heading level0 row5\" >vision</th>\n",
       "      <td id=\"T_0edeb_row5_col0\" class=\"data row5 col0\" >0.85</td>\n",
       "      <td id=\"T_0edeb_row5_col1\" class=\"data row5 col1\" >0.89</td>\n",
       "      <td id=\"T_0edeb_row5_col2\" class=\"data row5 col2\" >0.95</td>\n",
       "      <td id=\"T_0edeb_row5_col3\" class=\"data row5 col3\" >0.90</td>\n",
       "      <td id=\"T_0edeb_row5_col4\" class=\"data row5 col4\" >0.85</td>\n",
       "      <td id=\"T_0edeb_row5_col5\" class=\"data row5 col5\" >1.00</td>\n",
       "      <td id=\"T_0edeb_row5_col6\" class=\"data row5 col6\" >0.92</td>\n",
       "    </tr>\n",
       "    <tr>\n",
       "      <th id=\"T_0edeb_level0_row6\" class=\"row_heading level0 row6\" >culture</th>\n",
       "      <td id=\"T_0edeb_row6_col0\" class=\"data row6 col0\" >0.90</td>\n",
       "      <td id=\"T_0edeb_row6_col1\" class=\"data row6 col1\" >0.93</td>\n",
       "      <td id=\"T_0edeb_row6_col2\" class=\"data row6 col2\" >0.92</td>\n",
       "      <td id=\"T_0edeb_row6_col3\" class=\"data row6 col3\" >0.93</td>\n",
       "      <td id=\"T_0edeb_row6_col4\" class=\"data row6 col4\" >0.90</td>\n",
       "      <td id=\"T_0edeb_row6_col5\" class=\"data row6 col5\" >0.92</td>\n",
       "      <td id=\"T_0edeb_row6_col6\" class=\"data row6 col6\" >1.00</td>\n",
       "    </tr>\n",
       "  </tbody>\n",
       "</table>\n"
      ],
      "text/plain": [
       "<pandas.io.formats.style.Styler at 0x14d2a8944f0>"
      ]
     },
     "execution_count": 89,
     "metadata": {},
     "output_type": "execute_result"
    }
   ],
   "source": [
    "reputation_numeric = reputation_wide.select_dtypes(include = [np.number])\n",
    "reputation_numeric.corr().style.background_gradient(cmap = 'coolwarm').format(precision = 2)"
   ]
  },
  {
   "cell_type": "markdown",
   "id": "63e9f122-24e6-4970-8e13-8b4fba916f3d",
   "metadata": {},
   "source": [
    "# Ranking\n",
    "\n",
    "In this longer example, I am going to show you an example of improving a graph iteratively for clarity.\n",
    "\n",
    "* Query: What are the top 10 companies for workplace culture?\n",
    "\n",
    "Let us start with the framework for a bar chart."
   ]
  },
  {
   "cell_type": "code",
   "execution_count": 83,
   "id": "47c45fe9-3300-4161-b245-db363688f986",
   "metadata": {},
   "outputs": [
    {
     "data": {
      "text/plain": [
       "<AxesSubplot:xlabel='company', ylabel='culture'>"
      ]
     },
     "execution_count": 83,
     "metadata": {},
     "output_type": "execute_result"
    },
    {
     "data": {
      "image/png": "[encoded data removed]",
      "text/plain": [
       "<Figure size 432x288 with 1 Axes>"
      ]
     },
     "metadata": {
      "needs_background": "light"
     },
     "output_type": "display_data"
    }
   ],
   "source": [
    "sns.barplot(x = reputation_wide.company, y = reputation_wide.culture)"
   ]
  },
  {
   "cell_type": "markdown",
   "id": "2cc990e3-731a-4c08-9bc0-579a7ba85a4c",
   "metadata": {
    "tags": []
   },
   "source": [
    "Let us reorder the bars from highest to lowest values."
   ]
  },
  {
   "cell_type": "code",
   "execution_count": 84,
   "id": "dc4fb377-e114-411c-8f29-b4672e8ccdfd",
   "metadata": {},
   "outputs": [
    {
     "data": {
      "text/plain": [
       "<AxesSubplot:xlabel='company', ylabel='culture'>"
      ]
     },
     "execution_count": 84,
     "metadata": {},
     "output_type": "execute_result"
    },
    {
     "data": {
      "image/png": "[encoded data removed]",
      "text/plain": [
       "<Figure size 432x288 with 1 Axes>"
      ]
     },
     "metadata": {
      "needs_background": "light"
     },
     "output_type": "display_data"
    }
   ],
   "source": [
    "reputation_sorted = reputation_wide.sort_values(['culture'], ascending = False)\n",
    "sns.barplot(x = reputation_sorted.company, y = reputation_sorted.culture)"
   ]
  },
  {
   "cell_type": "markdown",
   "id": "d6bd5dac-9bea-4697-9bb9-1714dbc23fa2",
   "metadata": {},
   "source": [
    "The graph is still crowded, so let us focus on the top 10 companies."
   ]
  },
  {
   "cell_type": "code",
   "execution_count": 85,
   "id": "2a60a6a4-8dc2-4320-9030-81a0e69893cc",
   "metadata": {},
   "outputs": [
    {
     "data": {
      "text/plain": [
       "<AxesSubplot:xlabel='company', ylabel='culture'>"
      ]
     },
     "execution_count": 85,
     "metadata": {},
     "output_type": "execute_result"
    },
    {
     "data": {
      "image/png": "[encoded data removed]",
      "text/plain": [
       "<Figure size 432x288 with 1 Axes>"
      ]
     },
     "metadata": {
      "needs_background": "light"
     },
     "output_type": "display_data"
    }
   ],
   "source": [
    "reputation_sorted = reputation_wide.sort_values(['culture'], ascending = False).head(10)\n",
    "sns.barplot(x = reputation_sorted.company, y = reputation_sorted.culture)"
   ]
  },
  {
   "cell_type": "markdown",
   "id": "8832f212-7c63-4e9a-9747-211c74c2a657",
   "metadata": {},
   "source": [
    "The labels for the company names are overlapping and still hard to read.  One way to ease the congestion is to switch what are on the x- and y-axes."
   ]
  },
  {
   "cell_type": "code",
   "execution_count": 86,
   "id": "6662500a-100c-4828-b413-dc1bf328c159",
   "metadata": {},
   "outputs": [
    {
     "data": {
      "text/plain": [
       "<AxesSubplot:xlabel='culture', ylabel='company'>"
      ]
     },
     "execution_count": 86,
     "metadata": {},
     "output_type": "execute_result"
    },
    {
     "data": {
      "image/png": "[encoded data removed]",
      "text/plain": [
       "<Figure size 432x288 with 1 Axes>"
      ]
     },
     "metadata": {
      "needs_background": "light"
     },
     "output_type": "display_data"
    }
   ],
   "source": [
    "sns.barplot(x = reputation_sorted.culture, y = reputation_sorted.company)"
   ]
  },
  {
   "cell_type": "markdown",
   "id": "c35b2029-8c45-4ff8-b191-aae18e2d2187",
   "metadata": {},
   "source": [
    "Finally, let us place titles on the graph"
   ]
  },
  {
   "cell_type": "code",
   "execution_count": 87,
   "id": "fed4d6c0-186f-4599-8ac0-d880076eb2e6",
   "metadata": {},
   "outputs": [
    {
     "data": {
      "image/png": "[encoded data removed]",
      "text/plain": [
       "<Figure size 432x288 with 1 Axes>"
      ]
     },
     "metadata": {
      "needs_background": "light"
     },
     "output_type": "display_data"
    }
   ],
   "source": [
    "my_plot = sns.barplot(x = reputation_sorted.culture, y = reputation_sorted.company)\n",
    "my_plot.set(title = \"Company Reputation Poll\\nTop 10 in Workplace Culture\\nSource: Axios and Harris, TidyTuesday\",\n",
    "            xlabel = \"culture score\", ylabel = \"\")\n",
    "plt.show(my_plot)"
   ]
  }
 ],
 "metadata": {
  "kernelspec": {
   "display_name": "Python 3 (ipykernel)",
   "language": "python",
   "name": "python3"
  },
  "language_info": {
   "codemirror_mode": {
    "name": "ipython",
    "version": 3
   },
   "file_extension": ".py",
   "mimetype": "text/x-python",
   "name": "python",
   "nbconvert_exporter": "python",
   "pygments_lexer": "ipython3",
   "version": "3.9.7"
  }
 },
 "nbformat": 4,
 "nbformat_minor": 5
}
